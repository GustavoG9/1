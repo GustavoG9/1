{
 "cells": [
  {
   "cell_type": "markdown",
   "metadata": {},
   "source": [
    "# Tarea 1"
   ]
  },
  {
   "cell_type": "markdown",
   "metadata": {},
   "source": [
    "**Envío del PR inicial: 24.08.2018** \n",
    "\n",
    "**Aceptación del PR: 02.09.2018** "
   ]
  },
  {
   "cell_type": "markdown",
   "metadata": {},
   "source": [
    "## 1\n",
    "\n",
    "- Escriban una función `newton` que, a partir de `f`, `fprime` y `x0` dados, obtenga una de las raices de la ecuación. Comprueben que funciona con $f(x)=x^2 -2$ y $f'(x) = 2x$. Tengan suficiente cuidado para que no haya ningún tipo de inestabilidad de tipo en su función.\n",
    "\n",
    "- Documenta la función de manera adecuada (*docstrings*).\n",
    "\n",
    "- ¿Cómo se comporta, en términos del número de iterados, la convergencia del método de Newton?"
   ]
  },
  {
   "cell_type": "markdown",
   "metadata": {},
   "source": [
    "- Para la primera parte:"
   ]
  },
  {
   "cell_type": "code",
   "execution_count": 47,
   "metadata": {},
   "outputs": [
    {
     "data": {
      "text/plain": [
       "newton"
      ]
     },
     "execution_count": 47,
     "metadata": {},
     "output_type": "execute_result"
    }
   ],
   "source": [
    "@doc \"\"\"Se define la función que ejecutará el método de Newton con sus respectivos parámetros.\"\"\" ->\n",
    "function newton(f::Function,fprime::Function,x0::Real)   \n",
    "    lim=1e-8\n",
    "    eps=1e-10\n",
    "    cont=1\n",
    "    fp=fprime(x0)\n",
    "        if abs(fp) < eps \n",
    "            warn(\"La derivada es cero\")\n",
    "            return x0\n",
    "        end\n",
    "    while (cont < 100 )\n",
    "      \n",
    "        f0 = f(x0)\n",
    "        x = x0 - f0/fp  #Se actualiza el valor de x\n",
    "        if abs(x - x0) < lim\n",
    "            return x\n",
    "        end\n",
    "        x0 = x\n",
    "        cont=cont+1\n",
    "    end\n",
    "     if cont == 100\n",
    "        error(\"No converge en 100 iteraciones\")\n",
    "    else\n",
    "        x,cont\n",
    "    end\n",
    "    \n",
    "end \n",
    "    "
   ]
  },
  {
   "cell_type": "code",
   "execution_count": 48,
   "metadata": {},
   "outputs": [
    {
     "data": {
      "text/plain": [
       "(1.4142135643925284, 1.4142135623730951)"
      ]
     },
     "execution_count": 48,
     "metadata": {},
     "output_type": "execute_result"
    }
   ],
   "source": [
    "f(x)=x^2-2\n",
    "fprime(x)=2x\n",
    "(newton(f,fprime,1),sqrt(2))"
   ]
  },
  {
   "cell_type": "markdown",
   "metadata": {},
   "source": [
    "Conforme aumenta el número de iteraciones aumenta, el valor de la función evaluada en el punto de la condición inicial mejora, siempre y cuando se cumpla la condición de convergencia $|x-x0|<lim$ para aproximarnos a la solución.\n"
   ]
  },
  {
   "cell_type": "markdown",
   "metadata": {},
   "source": [
    "## 2\n",
    "\n",
    "- Usando la función que hicieron en el ejercicio anterior y variando la condición inicial `x0`, de -3 a 3 con pasos suficientemente pequeños, por ejemplo `0.125`, grafiquen la dependencia de la raíz encontrada de la condición inicial para $f(x)=x^2-2$. Para hacer esto, vale la pena que guarden en un vector la raíz obtenida y en otro la condición inicial.\n",
    "\n",
    "- Repitan el inciso anterior para $g(x) = (x-1)(x-2)(x-3)$, considerando el intervalo $x_0\\in[1,3]$ y muchas condiciones iniciales."
   ]
  },
  {
   "cell_type": "markdown",
   "metadata": {
    "inputHidden": false,
    "outputHidden": false
   },
   "source": [
    "- Para la primer parte:"
   ]
  },
  {
   "cell_type": "code",
   "execution_count": null,
   "metadata": {},
   "outputs": [],
   "source": []
  },
  {
   "cell_type": "markdown",
   "metadata": {},
   "source": [
    "- Para la segunda parte:"
   ]
  },
  {
   "cell_type": "code",
   "execution_count": null,
   "metadata": {},
   "outputs": [],
   "source": []
  },
  {
   "cell_type": "markdown",
   "metadata": {},
   "source": [
    "## 3\n",
    "\n",
    "Considerando la función $h(z)=z^3-c$, con $z\\in\\mathbb{C}$ y $c=1$, utiliza el método de Newton para encontrar las raices en el plano complejo de dicha ecuación. Repite el ejercicio de la dependencia de la raíz encontrada de las condiciones iniciales, graficando en el plano de Argand."
   ]
  },
  {
   "cell_type": "code",
   "execution_count": 29,
   "metadata": {
    "inputHidden": false,
    "outputHidden": false
   },
   "outputs": [
    {
     "data": {
      "text/plain": [
       "nc (generic function with 3 methods)"
      ]
     },
     "execution_count": 29,
     "metadata": {},
     "output_type": "execute_result"
    }
   ],
   "source": [
    "function nc(h::Function,hprime::Function,z0::Number, args::Tuple=(),lim::AbstractFloat=1e-8)    \n",
    "    contador=1\n",
    "    while(contador < 100)\n",
    "        hp = hprime(z0, args...)\n",
    "        h0 = h(z0, args...)\n",
    "        z = z0 - h0/hp\n",
    "        if abs(z-z0) < lim\n",
    "            return z\n",
    "        end\n",
    "        z0 = z\n",
    "        contador = contador + 1\n",
    "    end\n",
    "end\n",
    "    "
   ]
  },
  {
   "cell_type": "code",
   "execution_count": 30,
   "metadata": {},
   "outputs": [
    {
     "data": {
      "text/plain": [
       "2-element Array{Complex{Float64},1}:\n",
       " -0.5-0.866025im\n",
       " -0.5+0.866025im"
      ]
     },
     "execution_count": 30,
     "metadata": {},
     "output_type": "execute_result"
    }
   ],
   "source": [
    "(h(z)=z^3-1; hp(z)=3z^2; nc.(h,hp,[-im,im]))"
   ]
  },
  {
   "cell_type": "markdown",
   "metadata": {},
   "source": [
    "## 4\n",
    "\n",
    "- Definan una función `derivada_derecha` que calcule *numéricamente* la derivada de una función $f(x)$ de una variable (a priori arbitaria), en un punto $x_0$. Para esto, utilizaremos la aproximación de la derivada\n",
    "que se basa en su definición:\n",
    "\n",
    "$$ \n",
    "f'(x_0) \\approx \\frac{\\Delta f_+}{\\Delta x} \\equiv \\frac{f(x_0+h)-f(x_0)}{h},\n",
    "$$\n",
    "\n",
    "lo que requiere de la especificación de `h`. (Este método también se conoce por el nombre de *diferencias finitas*.)\n",
    "\n",
    "- A fin de simular el $\\lim_{h\\to 0}$, consideren distintos valores de $h$ que precisamente simulen dicho límite. Para cada valor de $h$ calculen el error absoluto del cálculo numérico respecto al valor *exacto*. Ilustren esto en una gráfica del error vs $h$, para $f(x) = 3x^3-2$, en $x_0=1$. "
   ]
  },
  {
   "cell_type": "code",
   "execution_count": 12,
   "metadata": {
    "inputHidden": false,
    "outputHidden": false
   },
   "outputs": [
    {
     "data": {
      "text/plain": [
       "fd"
      ]
     },
     "execution_count": 12,
     "metadata": {},
     "output_type": "execute_result"
    }
   ],
   "source": [
    "\"\"\"Esta función calcula la derivada en un punto inicial por medio de la aproximación de la derivada derecha,la primera\n",
    "entrada del arreglo muestra distintos valores de h, la segunda entrada muestra el valor aproximado de la derivada para \n",
    "la tercera entrada muestra el error absoluto del cálculo numérico respecto al valor exacto.\"\"\"\n",
    "\n",
    "function fd(f::Function,x0)\n",
    "    h0=0.000001\n",
    "    step=0.001\n",
    "    f0=f(x0)\n",
    "    \n",
    "    for j in 1:25\n",
    "        f1=f(x0+h0)\n",
    "        df=(f1 - f0)/h0 \n",
    "        println([h0  df abs(df - 9)])\n",
    "        hn=h0 + (step*j)\n",
    "         \n",
    "        h0=hn\n",
    "    end\n",
    "end"
   ]
  },
  {
   "cell_type": "code",
   "execution_count": 13,
   "metadata": {},
   "outputs": [
    {
     "name": "stdout",
     "output_type": "stream",
     "text": [
      "[1.0e-6 9.00001 8.99939e-6]\n",
      "[0.001001 9.00901 0.00901201]\n",
      "[0.003001 9.02704 0.027036]\n",
      "[0.006001 9.05412 0.054117]\n",
      "[0.010001 9.09031 0.0903091]\n",
      "[0.015001 9.13568 0.135684]\n",
      "[0.021001 9.19033 0.190332]\n",
      "[0.028001 9.25436 0.254361]\n",
      "[0.036001 9.3279 0.327897]\n",
      "[0.045001 9.41108 0.411084]\n",
      "[0.055001 9.50408 0.504084]\n",
      "[0.066001 9.60708 0.607077]\n",
      "[0.078001 9.72026 0.720261]\n",
      "[0.091001 9.84385 0.843853]\n",
      "[0.105001 9.97808 0.978085]\n",
      "[0.120001 10.1232 1.12321]\n",
      "[0.136001 10.2795 1.2795]\n",
      "[0.153001 10.4472 1.44724]\n",
      "[0.171001 10.6267 1.62673]\n",
      "[0.190001 10.8183 1.81831]\n",
      "[0.210001 11.0223 2.02231]\n",
      "[0.231001 11.2391 2.23909]\n",
      "[0.253001 11.469 2.46904]\n",
      "[0.276001 11.7125 2.71254]\n",
      "[0.300001 11.97 2.97001]\n"
     ]
    },
    {
     "data": {
      "text/plain": [
       "1-element Array{Void,1}:\n",
       " nothing"
      ]
     },
     "execution_count": 13,
     "metadata": {},
     "output_type": "execute_result"
    }
   ],
   "source": [
    "f(x)=3x^3-2\n",
    "[ fd(f,1)]"
   ]
  },
  {
   "cell_type": "markdown",
   "metadata": {},
   "source": [
    "## 5\n",
    "\n",
    "- Repitan el ejercicio anterior (escribe una función `derivada_simetrica`, usando ahora la aproximación *simétrica* (respecto a la ocurrencia de $h$) de la derivada, dada por\n",
    "\n",
    "$$\n",
    "f'(x_0) \\approx \\frac{ \\Delta f_{sym}}{\\Delta x} = \\lim_{h\\to 0} \\frac{f(x_0+h)-f(x_0-h)}{2h}.\n",
    "$$\n",
    "\n",
    "- ¿Por qué es correcto afirmar que la derivada simétrica resulta en una mejor aproximación que la derivada derecha? Argumenten y si es necesario usen argumentos analíticos."
   ]
  },
  {
   "cell_type": "code",
   "execution_count": 14,
   "metadata": {
    "inputHidden": false,
    "outputHidden": false
   },
   "outputs": [
    {
     "data": {
      "text/plain": [
       "fds"
      ]
     },
     "execution_count": 14,
     "metadata": {},
     "output_type": "execute_result"
    }
   ],
   "source": [
    "\"\"\"Esta función calcula la derivada en un punto inicial por medio de la aproximación de la derivada simétrica,la primera\n",
    "entrada del arreglo muestra distintos valores de h, la segunda entrada muestra el valor aproximado de la derivada para \n",
    "la tercera entrada muestra el error absoluto del cálculo numérico respecto al valor exacto, con ello se puede observar\n",
    "que el error en esta aproximación es menor que la utilizada anterirormente utilizando las mismas condiciones iniciales.\"\"\"\n",
    "\n",
    "function fds(f::Function,x0)\n",
    "    h0=0.000001\n",
    "    step=0.001\n",
    "    \n",
    "    for j in 1:25\n",
    "         f0=f(x0+h0)\n",
    "        f1=f(x0-h0)\n",
    "        df=(f0 - f1)/h0 \n",
    "        println([h0  df abs(df - 9)])\n",
    "        hn=h0 + (step*j)\n",
    "         \n",
    "        h0=hn\n",
    "    end\n",
    "end"
   ]
  },
  {
   "cell_type": "code",
   "execution_count": 15,
   "metadata": {},
   "outputs": [
    {
     "name": "stdout",
     "output_type": "stream",
     "text": [
      "[1.0e-6 9.00001 8.99939e-6]\n",
      "[0.001001 9.00901 0.00901201]\n",
      "[0.003001 9.02704 0.027036]\n",
      "[0.006001 9.05412 0.054117]\n",
      "[0.010001 9.09031 0.0903091]\n",
      "[0.015001 9.13568 0.135684]\n",
      "[0.021001 9.19033 0.190332]\n",
      "[0.028001 9.25436 0.254361]\n",
      "[0.036001 9.3279 0.327897]\n",
      "[0.045001 9.41108 0.411084]\n",
      "[0.055001 9.50408 0.504084]\n",
      "[0.066001 9.60708 0.607077]\n",
      "[0.078001 9.72026 0.720261]\n",
      "[0.091001 9.84385 0.843853]\n",
      "[0.105001 9.97808 0.978085]\n",
      "[0.120001 10.1232 1.12321]\n",
      "[0.136001 10.2795 1.2795]\n",
      "[0.153001 10.4472 1.44724]\n",
      "[0.171001 10.6267 1.62673]\n",
      "[0.190001 10.8183 1.81831]\n",
      "[0.210001 11.0223 2.02231]\n",
      "[0.231001 11.2391 2.23909]\n",
      "[0.253001 11.469 2.46904]\n",
      "[0.276001 11.7125 2.71254]\n",
      "[0.300001 11.97 2.97001]\n"
     ]
    },
    {
     "data": {
      "text/plain": [
       "1-element Array{Void,1}:\n",
       " nothing"
      ]
     },
     "execution_count": 15,
     "metadata": {},
     "output_type": "execute_result"
    }
   ],
   "source": [
    "f(x)=3x^3-2\n",
    "[ fd(f,1)]"
   ]
  },
  {
   "cell_type": "markdown",
   "metadata": {},
   "source": [
    "## 6\n",
    "\n",
    "- Definan la función `derivada_compleja` considerando la definición de la derivada dada por:\n",
    "$$\n",
    "f'(x_0) \\approx \\frac{\\Delta f_{cmplx}(x_0)}{\\Delta x} = \\Im\\Big(\\frac{f(x_0+ i h)}{h}\\Big),\n",
    "$$\n",
    "donde $\\Im$ indica la parte imaginaria del argumento ($i=\\sqrt{-1}$). \n",
    "\n",
    "- Argumenta (analíticamente) por qué esta definición da tan buen resultado. ¿Hay algún caso en que esta definición puede dar resultados inesperados?"
   ]
  },
  {
   "cell_type": "code",
   "execution_count": 37,
   "metadata": {},
   "outputs": [
    {
     "data": {
      "text/plain": [
       "dc (generic function with 1 method)"
      ]
     },
     "execution_count": 37,
     "metadata": {},
     "output_type": "execute_result"
    }
   ],
   "source": [
    "function dc(f::Function,z0::Complex)\n",
    "    h0=0.000001\n",
    "    step=0.01\n",
    "    \n",
    "    for k in 1:10\n",
    "        \n",
    "        f0=f(z0+im*h0)\n",
    "        df=f0/h0 \n",
    "        println( df )\n",
    "        hn=h0 + (step*k)\n",
    "         \n",
    "        h0=hn\n",
    "    end\n",
    "end"
   ]
  },
  {
   "cell_type": "code",
   "execution_count": 38,
   "metadata": {},
   "outputs": [
    {
     "name": "stdout",
     "output_type": "stream",
     "text": [
      "-3.500003600000901e7 - 6.000027000018005e6im\n",
      "-3535.7400439964995 - 627.1203240594028im\n",
      "-1202.897788074031 - 227.53605173555115im\n",
      "-619.8636202731456 - 128.08915172111372im\n",
      "-386.89650903499955 - 88.82941860600283im\n",
      "-270.6817867881481 - 69.76725223511411im\n",
      "-204.55588201965233 - 59.4836117776577im\n",
      "-163.51956257302294 - 53.70371457823549im\n",
      "-136.461961161244 - 50.53544053050197im\n",
      "-117.82761393865566 - 49.040824403772525im\n"
     ]
    }
   ],
   "source": [
    "f(z)=3z^3-2\n",
    "dc(f,1+2im)"
   ]
  },
  {
   "cell_type": "markdown",
   "metadata": {},
   "source": []
  },
  {
   "cell_type": "code",
   "execution_count": null,
   "metadata": {},
   "outputs": [],
   "source": []
  }
 ],
 "metadata": {
  "kernel_info": {
   "name": "julia-0.6"
  },
  "kernelspec": {
   "display_name": "Julia 0.6.4",
   "language": "julia",
   "name": "julia-0.6"
  },
  "language_info": {
   "file_extension": ".jl",
   "mimetype": "application/julia",
   "name": "julia",
   "version": "0.6.4"
  },
  "nteract": {
   "version": "0.11.6"
  }
 },
 "nbformat": 4,
 "nbformat_minor": 2
}
